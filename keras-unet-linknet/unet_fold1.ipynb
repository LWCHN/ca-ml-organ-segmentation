{
 "cells": [
  {
   "cell_type": "code",
   "execution_count": null,
   "metadata": {},
   "outputs": [],
   "source": [
    "import pandas as pd\n",
    "import matplotlib.pyplot as plt\n",
    "from imgaug import augmenters as iaa\n",
    "from segmentation_models import Unet, Linknet\n",
    "from segmentation_models import get_preprocessing\n",
    "from keras.optimizers import Adam\n",
    "from keras.callbacks import ModelCheckpoint, TensorBoard, ReduceLROnPlateau\n",
    "from keras.utils.training_utils import multi_gpu_model\n",
    "from keras.models import Model\n",
    "from .utils import *"
   ]
  },
  {
   "cell_type": "code",
   "execution_count": null,
   "metadata": {},
   "outputs": [],
   "source": [
    "# Fold 1.\n",
    "train_df = pd.read_csv(\"jsrt/jsrt_fold1/train.csv\")\n",
    "val_df = pd.read_csv(\"jsrt/jsrt_fold1/val.csv\")\n",
    "test_df = pd.read_csv(\"jsrt/jsrt_fold1/test.csv\")\n",
    "\n",
    "backbone = \"resnext50\"\n",
    "preprocessing_fn = get_preprocessing(backbone)\n",
    "shape = 512"
   ]
  },
  {
   "cell_type": "code",
   "execution_count": null,
   "metadata": {},
   "outputs": [],
   "source": [
    "seq = iaa.Sequential([\n",
    "    iaa.Fliplr(0.5),\n",
    "\n",
    "    iaa.OneOf([\n",
    "        iaa.Affine(\n",
    "            scale={\"x\": (0.8, 1.2), \"y\": (0.8, 1.2)},\n",
    "            rotate=(-15, 15),\n",
    "            shear=(-10, 10),\n",
    "        ),\n",
    "        iaa.Affine(\n",
    "            translate_percent={\"x\": (-0.1, 0.1), \"y\": (-0.1, 0.1)},\n",
    "            shear=(-10, 10),\n",
    "        )\n",
    "    ])\n",
    "], random_order=True)"
   ]
  },
  {
   "cell_type": "code",
   "execution_count": null,
   "metadata": {
    "scrolled": true
   },
   "outputs": [],
   "source": [
    "for i in range(10):\n",
    "    show_augm(i, train_df, seq,preprocessing_fn)"
   ]
  },
  {
   "cell_type": "code",
   "execution_count": null,
   "metadata": {},
   "outputs": [],
   "source": [
    "val_images, val_masks = load_val(val_df, shape, preprocessing_fn)"
   ]
  },
  {
   "cell_type": "code",
   "execution_count": null,
   "metadata": {},
   "outputs": [],
   "source": [
    "model = Unet(backbone_name=\"resnext50\", encoder_weights=\"imagenet\", classes=6)\n",
    "model.summary()"
   ]
  },
  {
   "cell_type": "code",
   "execution_count": null,
   "metadata": {},
   "outputs": [],
   "source": [
    "optimizer = Adam(lr=0.001, decay=1e-7, beta_1=0.9, beta_2=0.999)\n",
    "model.compile(optimizer=optimizer, loss=bc_dice_loss, metrics=[dice_coefficient, \"binary_accuracy\"])"
   ]
  },
  {
   "cell_type": "code",
   "execution_count": null,
   "metadata": {},
   "outputs": [],
   "source": [
    "batch_size = 4\n",
    "epochs = 30\n",
    "callbacks = [\n",
    "    ModelCheckpoint(\"backup/epoch_{epoch:02d}.hdf5\", monitor=\"val_dice_coef\", mode=\"max\", save_weights_only=True, save_best_only=False, verbose=1),\n",
    "    TensorBoard(log_dir=\"logs\", batch_size=batch_size),\n",
    "    ReduceLROnPlateau(monitor=\"val_dice_coef\", factor=0.4, patience=2, verbose=1, mode=\"max\", min_lr=0.000000001),\n",
    "]\n",
    "model.fit_generator(generator(batch_size, shape, train_df, seq, preprocessing_fn), validation_data=(val_images, val_masks), steps_per_epoch=500, epochs=epochs, callbacks=callbacks)"
   ]
  },
  {
   "cell_type": "code",
   "execution_count": null,
   "metadata": {},
   "outputs": [],
   "source": [
    "model.save_weights(\"backup/final.hdf5\")"
   ]
  },
  {
   "cell_type": "code",
   "execution_count": null,
   "metadata": {},
   "outputs": [],
   "source": [
    "model.load_weights(\"backup/\" + sorted(os.listdir(\"backup\"))[-1])"
   ]
  },
  {
   "cell_type": "code",
   "execution_count": null,
   "metadata": {},
   "outputs": [],
   "source": [
    "test_images, test_masks = load_test(test_df)"
   ]
  },
  {
   "cell_type": "code",
   "execution_count": null,
   "metadata": {},
   "outputs": [],
   "source": [
    "test_results = model.predict(np.array(test_images))\n",
    "test_results[test_results >= 0.5] = 1\n",
    "test_results[test_results < 0.5] = 0"
   ]
  },
  {
   "cell_type": "code",
   "execution_count": null,
   "metadata": {},
   "outputs": [],
   "source": [
    "print(\"Lungs: \" + str(hard_dice(test_results[:, :, :, 0], test_masks[:, :, :, 0]))\n",
    "print(\"Heart: \" + str(hard_dice(test_results[:, :, :, 2], test_masks[:, :, :, 0]))\n",
    "print(\"Clavicles: \" + str(hard_dice(test_results[:, :, :, 3], test_masks[:, :, :, 0]))"
   ]
  },
  {
   "cell_type": "code",
   "execution_count": null,
   "metadata": {},
   "outputs": [],
   "source": [
    "print(\"Lungs: \" + str(iou(test_results[:, :, :, 0], test_masks[:, :, :, 0]))\n",
    "print(\"Heart: \" + str(iou(test_results[:, :, :, 2], test_masks[:, :, :, 0]))\n",
    "print(\"Clavicles: \" + str(iou(test_results[:, :, :, 3], test_masks[:, :, :, 0]))"
   ]
  },
  {
   "cell_type": "code",
   "execution_count": null,
   "metadata": {},
   "outputs": [],
   "source": [
    "layer_outputs = [layer.output for layer in model.layers[-16:]]\n",
    "activation_model = Model(inputs=model.input, outputs=layer_outputs)\n",
    "activations = activation_model.predict(np.expand_dims(np.array(test_images[0]), 0))\n",
    " \n",
    "def display_activation(activations, col_size, row_size, act_index): \n",
    "    activation = activations[act_index]\n",
    "    activation_index=0\n",
    "    fig, ax = plt.subplots(row_size, col_size, figsize=(row_size*2.5,col_size*1.5))\n",
    "    for row in range(0,row_size):\n",
    "        for col in range(0,col_size):\n",
    "            ax[row][col].imshow(activation[0, :, :, activation_index], cmap='gray')\n",
    "            activation_index += 1"
   ]
  },
  {
   "cell_type": "code",
   "execution_count": null,
   "metadata": {},
   "outputs": [],
   "source": [
    "plt.figure(figsize=(30, 30))\n",
    "rows = 4\n",
    "cols = 4\n",
    "\n",
    "for i in range(16):\n",
    "    subplot = plt.subplot(rows, cols, i + 1)\n",
    "    subplot.axis(\"off\")\n",
    "    subplot.imshow(activations[-3][0,...,i], cmap=\"hot\")\n",
    "\n",
    "plt.show()"
   ]
  },
  {
   "cell_type": "code",
   "execution_count": null,
   "metadata": {},
   "outputs": [],
   "source": [
    "plt.figure(figsize=(30, 30))\n",
    "rows = 1\n",
    "cols = 6\n",
    "\n",
    "for i in range(6):\n",
    "    subplot = plt.subplot(rows, cols, i + 1)\n",
    "    subplot.axis(\"off\")\n",
    "    subplot.imshow(activations[-2][0,...,i], cmap=\"hot\")\n",
    "\n",
    "plt.show()"
   ]
  },
  {
   "cell_type": "code",
   "execution_count": null,
   "metadata": {},
   "outputs": [],
   "source": [
    "for image, mask in zip(test_images, test_results):\n",
    "    mask[mask >= 0.5] = 255\n",
    "    mask[mask < 0.5] = 0\n",
    "    mask = cv2.cvtColor(mask.astype(np.uint8), cv2.COLOR_GRAY2RGB)\n",
    "    mask[:, :, 1] = 0\n",
    "    mask[:, :, 2] = 0\n",
    "    cv2.addWeighted(mask, 0.4, image, 0.6, 0, image)"
   ]
  },
  {
   "cell_type": "code",
   "execution_count": null,
   "metadata": {},
   "outputs": [],
   "source": [
    "plt.figure(figsize=(30, 30))\n",
    "rows = 6\n",
    "cols = 4\n",
    "\n",
    "for i in range(len(test_images[:24])):\n",
    "    subplot = plt.subplot(rows, cols, i + 1)\n",
    "    subplot.axis(\"off\")\n",
    "    subplot.imshow(test_images[i])\n",
    "\n",
    "plt.show()"
   ]
  },
  {
   "cell_type": "code",
   "execution_count": null,
   "metadata": {},
   "outputs": [],
   "source": []
  }
 ],
 "metadata": {
  "kernelspec": {
   "display_name": "ml",
   "language": "python",
   "name": "ml"
  },
  "language_info": {
   "codemirror_mode": {
    "name": "ipython",
    "version": 3
   },
   "file_extension": ".py",
   "mimetype": "text/x-python",
   "name": "python",
   "nbconvert_exporter": "python",
   "pygments_lexer": "ipython3",
   "version": "3.6.3"
  }
 },
 "nbformat": 4,
 "nbformat_minor": 2
}
